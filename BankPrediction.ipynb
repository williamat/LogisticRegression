{
 "cells": [
  {
   "cell_type": "markdown",
   "id": "0addb4a6-81cf-4dc7-955c-4183801ed49b",
   "metadata": {},
   "source": [
    "## Modelo de regresión logística para identificar posibles clientes\n",
    "\n",
    "### 1. Carga de paquetes y data"
   ]
  },
  {
   "cell_type": "code",
   "execution_count": 2,
   "id": "24c1a4c9-a08b-4ecd-b086-cb090b8f092e",
   "metadata": {},
   "outputs": [],
   "source": [
    "#Librerias\n",
    "import numpy as np\n",
    "import pandas as pd\n",
    "import matplotlib.pyplot as plt\n",
    "import seaborn as sns\n",
    "import zipfile as zf\n",
    "\n",
    "from sklearn.linear_model import LogisticRegression\n",
    "from sklearn.model_selection import train_test_split\n",
    "from sklearn.metrics import confusion_matrix, classification_report\n",
    "from sklearn.preprocessing import RobustScaler\n",
    "from imblearn.over_sampling import SMOTE\n",
    "\n",
    "%matplotlib inline"
   ]
  },
  {
   "cell_type": "code",
   "execution_count": 3,
   "id": "611f34af-ee7a-45a7-9f38-8e7e7f0444fb",
   "metadata": {},
   "outputs": [
    {
     "name": "stderr",
     "output_type": "stream",
     "text": [
      "C:\\Users\\willi\\anaconda3\\lib\\site-packages\\IPython\\core\\interactiveshell.py:3397: FutureWarning: In a future version of pandas all arguments of read_csv except for the argument 'filepath_or_buffer' will be keyword-only.\n",
      "  exec(code_obj, self.user_global_ns, self.user_ns)\n"
     ]
    }
   ],
   "source": [
    "#Cargar el .zip\n",
    "datazip=zf.ZipFile('Bank_Campaign.csv.zip')\n",
    "#Archivos en el .zip\n",
    "datazip.namelist()\n",
    "#Lectura de los datos\n",
    "data=pd.read_csv(datazip.open('Bank_Campaign.csv'),';')"
   ]
  },
  {
   "cell_type": "code",
   "execution_count": null,
   "id": "c2f9acac-4cd2-439d-b2c9-7e9def7c5ad4",
   "metadata": {},
   "outputs": [],
   "source": []
  }
 ],
 "metadata": {
  "kernelspec": {
   "display_name": "Python 3 (ipykernel)",
   "language": "python",
   "name": "python3"
  },
  "language_info": {
   "codemirror_mode": {
    "name": "ipython",
    "version": 3
   },
   "file_extension": ".py",
   "mimetype": "text/x-python",
   "name": "python",
   "nbconvert_exporter": "python",
   "pygments_lexer": "ipython3",
   "version": "3.8.8"
  }
 },
 "nbformat": 4,
 "nbformat_minor": 5
}
